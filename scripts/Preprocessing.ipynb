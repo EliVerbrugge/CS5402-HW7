{
 "cells": [
  {
   "cell_type": "code",
   "execution_count": 21,
   "metadata": {},
   "outputs": [],
   "source": [
    "import pandas as pd\n",
    "\n",
    "DATA_PATH = r'../data/credit.csv'\n",
    "df = pd.read_csv(DATA_PATH)\n",
    "\n",
    "# processing\n",
    "# Remove where rows are almost entirely empty\n",
    "df = df[df['location'] != '?'] # removes 2 rows\n",
    "df = df[df['checking_amt'] != '?'] # removes 1 row\n",
    "\n",
    "df['checking_amt'] = df['checking_amt'].apply(float) # Stored as strings originally\n",
    "df = df[df['checking_amt'].isna() != True] # removes 1 row\n",
    "\n",
    "\n",
    "\n",
    "# Clean input type\n",
    "df['works_outside_US'].replace(['^(1|[Yy]).*', '^(0|[Nn]).*'], ['YES', 'NO'], inplace=True, regex=True)\n",
    "\n",
    "\n",
    "df['state'] = df['state'].replace('Rhodes Island', 'Rhode Island')\n",
    "# Have verified that state in 'location' matches 'state', so this is not needed.\n",
    "# df['abbrv'] = pd.Series(dtype='string')\n",
    "\n",
    "\n",
    "\n",
    "# location                # Done\n",
    "# state                   # Done\n",
    "# checking_amt            # binned, want opinion\n",
    "# duration                # 89 '?'s, will get to later\n",
    "# credit_history\n",
    "# purpose\n",
    "# credit_amount\n",
    "# savings\n",
    "# employment\n",
    "# installment_commitment\n",
    "# personal_status\n",
    "# other_parties\n",
    "# residence_since\n",
    "# property_magnitude\n",
    "# age\n",
    "# other_payment_plans\n",
    "# housing\n",
    "# existing_credits\n",
    "# job\n",
    "# num_dependents\n",
    "# own_telephone\n",
    "# foreign_worker\n",
    "# class\n",
    "# verified\n",
    "# application_date\n",
    "# works_outside_US      # Done\n",
    "\n"
   ]
  },
  {
   "cell_type": "code",
   "execution_count": 144,
   "metadata": {},
   "outputs": [],
   "source": [
    "# abbrv_map = {\n",
    "#     'AL': 'Alabama',\n",
    "#     'AK': 'Alaska',\n",
    "#     'AZ': 'Arizona',\n",
    "#     'AR': 'Arkansas',\n",
    "#     'CA': 'California',\n",
    "#     'CO': 'Colorado',\n",
    "#     'CT': 'Connecticut',\n",
    "#     'DE': 'Delaware',\n",
    "#     'DC': 'District of Columbia',\n",
    "#     'FL': 'Florida',\n",
    "#     'GA': 'Georgia',\n",
    "#     'HI': 'Hawaii',\n",
    "#     'ID': 'Idaho',\n",
    "#     'IL': 'Illinois',\n",
    "#     'IN': 'Indiana',\n",
    "#     'IA': 'Iowa',\n",
    "#     'KS': 'Kansas',\n",
    "#     'KY': 'Kentucky',\n",
    "#     'LA': 'Louisiana',\n",
    "#     'ME': 'Maine',\n",
    "#     'MD': 'Maryland',\n",
    "#     'MA': 'Massachusetts',\n",
    "#     'MI': 'Michigan',\n",
    "#     'MN': 'Minnesota',\n",
    "#     'MS': 'Mississippi',\n",
    "#     'MO': 'Missouri',\n",
    "#     'MT': 'Montana',\n",
    "#     'NE': 'Nebraska',\n",
    "#     'NV': 'Nevada',\n",
    "#     'NH': 'New Hampshire',\n",
    "#     'NJ': 'New Jersey',\n",
    "#     'NM': 'New Mexico',\n",
    "#     'NY': 'New York',\n",
    "#     'NC': 'North Carolina',\n",
    "#     'ND': 'North Dakota',\n",
    "#     'OH': 'Ohio',\n",
    "#     'OK': 'Oklahoma',\n",
    "#     'OR': 'Oregon',\n",
    "#     'PA': 'Pennsylvania',\n",
    "#     'RI': 'Rhode Island',\n",
    "#     'SC': 'South Carolina',\n",
    "#     'SD': 'South Dakota',\n",
    "#     'TN': 'Tennessee',\n",
    "#     'TX': 'Texas',\n",
    "#     'UT': 'Utah',\n",
    "#     'VT': 'Vermont',\n",
    "#     'VA': 'Virginia',\n",
    "#     'WA': 'Washington',\n",
    "#     'WV': 'West Virginia',\n",
    "#     'WI': 'Wisconsin',\n",
    "#     'WY': 'Wyoming'\n",
    "# }\n",
    "\n",
    "# def seperate_locs(row):\n",
    "#     \"\"\"\n",
    "#     This was to verify that every location entry had matching state data.\n",
    "#     Long story short they did, so this is not actually needed.\n",
    "#     \"\"\"\n",
    "#     try:\n",
    "#         loc, state_abbrv = row['location'].split(', ')\n",
    "#     except Exception as e:\n",
    "#         print(row['location'])\n",
    "#         raise e\n",
    "#     row['abbrv'] = abbrv_map[state_abbrv]\n",
    "#     row['location'] = loc\n",
    "#     return row['location']\n",
    "# df['abbrv'] = df.apply(seperate_locs, axis=1)\n",
    "\n",
    "df['location'] = df['location'].str.replace('District of Columbia', 'District of Columbia, DC')\n",
    "df['location'] = df['location'].str.split(', ').apply(lambda x: x[0])"
   ]
  },
  {
   "cell_type": "code",
   "execution_count": 10,
   "metadata": {},
   "outputs": [
    {
     "data": {
      "text/plain": [
       "array([[<AxesSubplot:title={'center':'checking_amt'}>]], dtype=object)"
      ]
     },
     "execution_count": 10,
     "metadata": {},
     "output_type": "execute_result"
    },
    {
     "data": {
      "image/png": "[encoded data removed]",
      "text/plain": [
       "<Figure size 432x288 with 1 Axes>"
      ]
     },
     "metadata": {
      "needs_background": "light"
     },
     "output_type": "display_data"
    },
    {
     "data": {
      "image/png": "[encoded data removed]",
      "text/plain": [
       "<Figure size 432x288 with 1 Axes>"
      ]
     },
     "metadata": {
      "needs_background": "light"
     },
     "output_type": "display_data"
    }
   ],
   "source": [
    "from feature_engine.discretisers import EqualWidthDiscretiser, EqualFrequencyDiscretiser\n",
    "import matplotlib.pyplot as plt\n",
    "df['checking_amt'] = df['checking_amt'].apply(float) # Stored as strings originally\n",
    "df.hist(column='checking_amt') # Display raw values\n",
    "\n",
    "\n",
    "# Binning is the way to go? Right now I have equal width.\n",
    "# Equal frequency maybe? But I don't think so with the distribution\n",
    "eqdist_discretiser = EqualWidthDiscretiser(\n",
    "    bins=10, \n",
    "    variables=['checking_amt']\n",
    ")\n",
    "df = eqdist_discretiser.fit_transform(df)\n",
    "\n",
    "df.hist(column='checking_amt')\n"
   ]
  },
  {
   "cell_type": "code",
   "execution_count": 24,
   "metadata": {},
   "outputs": [
    {
     "data": {
      "text/plain": [
       "(89, 26)"
      ]
     },
     "execution_count": 24,
     "metadata": {},
     "output_type": "execute_result"
    }
   ],
   "source": [
    "import numpy as np\n",
    "\n",
    "# np.mean(df[df['duration'] == '?']['checking_amt'])\n",
    "# np.std(df[df['duration'] == '?']['checking_amt'])\n",
    "\n",
    "df[df['duration'] == '?'].shape\n",
    "\n"
   ]
  },
  {
   "cell_type": "code",
   "execution_count": 29,
   "metadata": {},
   "outputs": [
    {
     "data": {
      "text/plain": [
       "NO     193\n",
       "YES    180\n",
       "1      102\n",
       "n       95\n",
       "no      92\n",
       "Y       91\n",
       "yes     87\n",
       "N       83\n",
       "y       77\n",
       "Name: works_outside_US, dtype: int64"
      ]
     },
     "execution_count": 29,
     "metadata": {},
     "output_type": "execute_result"
    }
   ],
   "source": [
    "# df[df['credit_history'] == '?']['job'].value_counts()\n",
    "df['works_outside_US'].value_counts()"
   ]
  },
  {
   "cell_type": "code",
   "execution_count": 30,
   "metadata": {},
   "outputs": [
    {
     "data": {
      "text/plain": [
       "YES    537\n",
       "NO     463\n",
       "Name: works_outside_US, dtype: int64"
      ]
     },
     "execution_count": 30,
     "metadata": {},
     "output_type": "execute_result"
    }
   ],
   "source": [
    "df['works_outside_US'].replace(['^(1|[Yy]).*', '^(0|[Nn]).*'], ['YES', 'NO'], inplace=True, regex=True)\n",
    "df['works_outside_US'].value_counts()"
   ]
  }
 ],
 "metadata": {
  "kernelspec": {
   "display_name": "Python 3",
   "language": "python",
   "name": "python3"
  },
  "language_info": {
   "codemirror_mode": {
    "name": "ipython",
    "version": 3
   },
   "file_extension": ".py",
   "mimetype": "text/x-python",
   "name": "python",
   "nbconvert_exporter": "python",
   "pygments_lexer": "ipython3",
   "version": "3.8.5"
  }
 },
 "nbformat": 4,
 "nbformat_minor": 4
}
