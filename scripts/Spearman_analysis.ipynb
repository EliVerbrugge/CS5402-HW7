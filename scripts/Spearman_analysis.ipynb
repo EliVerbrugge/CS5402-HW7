{
 "cells": [
  {
   "cell_type": "code",
   "execution_count": 51,
   "metadata": {},
   "outputs": [
    {
     "name": "stdout",
     "output_type": "stream",
     "text": [
      "date-timestamp & population-wgt    : False\n",
      "date-timestamp & education-num     : False\n",
      "date-timestamp & capital-gain      : False\n",
      "date-timestamp & capital-loss      : False\n",
      "population-wgt & education-num     : False\n",
      "population-wgt & capital-gain      : False\n",
      "population-wgt & capital-loss      : False\n",
      "education-num & capital-gain       : False\n",
      "education-num & capital-loss       : False\n",
      "capital-gain & capital-loss        : False\n"
     ]
    }
   ],
   "source": [
    "# Imports\n",
    "from scipy.stats import spearmanr\n",
    "from itertools import combinations\n",
    "from datetime import datetime\n",
    "\n",
    "import pandas as pd\n",
    "\n",
    "\n",
    "def is_dependent(df, attr1, attr2, threshold=0.8):\n",
    "    # Uses spearman test to check if two attributes in the \n",
    "    # specified dataframe are dependent.\n",
    "    X, Y = df[attr1], df[attr2]\n",
    "    corr, pvalue = spearmanr(X, Y)\n",
    "    \n",
    "    # Attributes are likely dependent if >= threshold\n",
    "    return abs(corr) >= threshold\n",
    "    \n",
    "\n",
    "if __name__ == '__main__':\n",
    "    # Read from data source\n",
    "    DATA_SOURCE = r'../data/census_sanitized.csv'\n",
    "    df = pd.read_csv(DATA_SOURCE)\n",
    "\n",
    "    # Read date as datetime object using MM/DD/YYYY format, convert to timestamp\n",
    "    df['date-timestamp'] = df['date'].apply(\n",
    "        lambda x: datetime.strptime(x, '%m/%d/%Y').timestamp()\n",
    "    )\n",
    "\n",
    "    # We change 'date' to 'date-timestamp' so that the date can be \n",
    "    # considered a continious number\n",
    "    nonnominal_attributes = ['date-timestamp',\n",
    "                             'population-wgt',\n",
    "                             'education-num',\n",
    "                             'capital-gain',\n",
    "                             'capital-loss']\n",
    "\n",
    "    # Iterate through combinations, determine dependence\n",
    "    for c in combinations(nonnominal_attributes, 2):\n",
    "        X, Y = df[c[0]], df[c[1]]\n",
    "        print(f'{str(c[0]) + \" & \" + str(c[1]):<35}: {is_dependent(df, *c)}')\n",
    "        "
   ]
  },
  {
   "cell_type": "code",
   "execution_count": null,
   "metadata": {},
   "outputs": [],
   "source": []
  }
 ],
 "metadata": {
  "kernelspec": {
   "display_name": "Python 3",
   "language": "python",
   "name": "python3"
  },
  "language_info": {
   "codemirror_mode": {
    "name": "ipython",
    "version": 3
   },
   "file_extension": ".py",
   "mimetype": "text/x-python",
   "name": "python",
   "nbconvert_exporter": "python",
   "pygments_lexer": "ipython3",
   "version": "3.8.2"
  }
 },
 "nbformat": 4,
 "nbformat_minor": 4
}
